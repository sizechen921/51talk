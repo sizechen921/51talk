{
 "cells": [
  {
   "cell_type": "code",
   "execution_count": 2,
   "metadata": {},
   "outputs": [],
   "source": [
    "from pydub import AudioSegment"
   ]
  },
  {
   "cell_type": "code",
   "execution_count": 3,
   "metadata": {},
   "outputs": [],
   "source": [
    "import os\n",
    "import sys"
   ]
  },
  {
   "cell_type": "code",
   "execution_count": 4,
   "metadata": {},
   "outputs": [
    {
     "name": "stdout",
     "output_type": "stream",
     "text": [
      "-1241951.302463176\n"
     ]
    }
   ],
   "source": [
    "#open file\n",
    "path1 = \"/home/size/Desktop/data/user_call_detail-audio-bj-1\"\n",
    "dirs1 = os.listdir(path1)\n",
    "loudness1 = []\n",
    "for sound1 in dirs1:\n",
    "    sounds1 = AudioSegment.from_mp3(\"/home/size/Desktop/data/user_call_detail-audio-bj-1/\"+sound1)\n",
    "    loud1 = sounds1.dBFS\n",
    "    loudness1.append(loud1)\n",
    "\n",
    "l1 = len(loudness1)\n",
    "a1=sum(loudness1)\n",
    "print (a1)"
   ]
  },
  {
   "cell_type": "code",
   "execution_count": null,
   "metadata": {},
   "outputs": [],
   "source": [
    "#open file\n",
    "path2 = \"/home/size/Desktop/data/user_call_detail-audio-bj-2\"\n",
    "dirs2 = os.listdir(path2)\n",
    "loudness2 = []\n",
    "for sound2 in dirs2:\n",
    "    sounds2 = AudioSegment.from_mp3(\"/home/size/Desktop/data/user_call_detail-audio-bj-2/\"+sound2)\n",
    "    loud2 = sounds2.dBFS\n",
    "    loudness2.append(loud2)\n",
    "a2 = sum(loudness2)\n",
    "l2 = len(loudness2)\n",
    "print (a2)"
   ]
  },
  {
   "cell_type": "code",
   "execution_count": null,
   "metadata": {},
   "outputs": [],
   "source": [
    "#open file\n",
    "path3 = \"/home/size/Desktop/data/user_call_detail-audio-bj-3\"\n",
    "dirs3 = os.listdir(path3)\n",
    "loudnes3 = []\n",
    "for sound3 in dirs3:\n",
    "    sounds3 = AudioSegment.from_mp3(\"/home/size/Desktop/data/user_call_detail-audio-bj-3/\"+sound3)\n",
    "    loud3 = sounds3.dBFS\n",
    "    loudness3.append(loud3)\n",
    "a3 = sum(loudness3)\n",
    "l3 = len(loudness3)\n",
    "print (a3)"
   ]
  },
  {
   "cell_type": "code",
   "execution_count": null,
   "metadata": {},
   "outputs": [],
   "source": [
    "#open file\n",
    "path4 = \"/home/size/Desktop/data/user_call_detail-audio-bj-4\"\n",
    "dirs4 = os.listdir(path4)\n",
    "loudness4 = []\n",
    "for sound4 in dirs4:\n",
    "    sounds4 = AudioSegment.from_mp3(\"/home/size/Desktop/data/user_call_detail-audio-bj-4/\"+sound4)\n",
    "    loud4 = sounds4.dBFS\n",
    "    loudness4.append(loud4)\n",
    "a4 = sum(loudness4)\n",
    "l4 = len(loudness4)\n",
    "print (a4)"
   ]
  },
  {
   "cell_type": "code",
   "execution_count": null,
   "metadata": {},
   "outputs": [],
   "source": [
    "#open file\n",
    "path5 = \"/home/size/Desktop/data/user_call_detail-audio-bj-5\"\n",
    "dirs5 = os.listdir(path5)\n",
    "loudness5 = []\n",
    "for sound5 in dirs5:\n",
    "    sounds5 = AudioSegment.from_mp3(\"/home/size/Desktop/data/user_call_detail-audio-bj-5/\"+sound5)\n",
    "    loud5 = sounds5.dBFS\n",
    "    loudness5.append(loud5)\n",
    "a5 = sum(loudness5)\n",
    "l5 = len(loudness5)\n",
    "print (a5)\n",
    "\n"
   ]
  },
  {
   "cell_type": "code",
   "execution_count": null,
   "metadata": {},
   "outputs": [],
   "source": [
    "#open file\n",
    "path6 = \"/home/size/Desktop/data/user_call_detail-audio-bj-6\"\n",
    "dirs6 = os.listdir(path6)\n",
    "loudness6 = []\n",
    "for sound6 in dirs6:\n",
    "    sounds6 = AudioSegment.from_mp3(\"/home/size/Desktop/data/user_call_detail-audio-bj-6/\"+sound6)\n",
    "    loud6 = sounds6.dBFS\n",
    "    loudness6.append(loud6)\n",
    "a6 = sum(loudness6)\n",
    "l6 = len(loudness6)\n",
    "print (a6)"
   ]
  },
  {
   "cell_type": "code",
   "execution_count": null,
   "metadata": {},
   "outputs": [],
   "source": [
    "loud = a1+a2+a3+a4+a5+a6\n",
    "total = l1+l2+l3+l4+l5+l6\n",
    "averloud = loud / total\n",
    "print(averloud)"
   ]
  },
  {
   "cell_type": "code",
   "execution_count": 5,
   "metadata": {},
   "outputs": [
    {
     "data": {
      "text/plain": [
       "-25.1902909692228"
      ]
     },
     "execution_count": 5,
     "metadata": {},
     "output_type": "execute_result"
    }
   ],
   "source": [
    "(-1241951.302463176-1145405.8399600429-1271438.921715316-1249470.8475441162-1253229.4259755095\n",
    "-280366.3913192473)/255728"
   ]
  },
  {
   "cell_type": "code",
   "execution_count": null,
   "metadata": {},
   "outputs": [],
   "source": []
  }
 ],
 "metadata": {
  "kernelspec": {
   "display_name": "Python 3",
   "language": "python",
   "name": "python3"
  },
  "language_info": {
   "codemirror_mode": {
    "name": "ipython",
    "version": 3
   },
   "file_extension": ".py",
   "mimetype": "text/x-python",
   "name": "python",
   "nbconvert_exporter": "python",
   "pygments_lexer": "ipython3",
   "version": "3.6.7"
  }
 },
 "nbformat": 4,
 "nbformat_minor": 2
}
